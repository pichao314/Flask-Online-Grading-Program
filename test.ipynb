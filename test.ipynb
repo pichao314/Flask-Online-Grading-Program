{
 "nbformat": 4,
 "nbformat_minor": 2,
 "metadata": {
  "language_info": {
   "name": "python",
   "codemirror_mode": {
    "name": "ipython",
    "version": 3
   },
   "version": "3.8.1-final"
  },
  "orig_nbformat": 2,
  "file_extension": ".py",
  "mimetype": "text/x-python",
  "name": "python",
  "npconvert_exporter": "python",
  "pygments_lexer": "ipython3",
  "version": 3,
  "kernelspec": {
   "name": "python37364bit5bd36c9a759047d393c81929de95c0b0",
   "display_name": "Python 3.7.3 64-bit"
  }
 },
 "cells": [
  {
   "cell_type": "code",
   "execution_count": 1,
   "metadata": {
    "pycharm": {
     "is_executing": false
    }
   },
   "outputs": [],
   "source": [
    "import os, sqlite3,json\n",
    "os.remove('tests.db')\n",
    "conn = sqlite3.connect('tests.db')\n",
    "cur = conn.cursor()"
   ]
  },
  {
   "cell_type": "code",
   "execution_count": 2,
   "metadata": {},
   "outputs": [],
   "source": [
    "init_test = \"CREATE TABLE test(\\\n",
    "    id INTEGER PRIMARY KEY,\\\n",
    "    subject VARCHAR(20),\\\n",
    "    answer_keys VARCHAR(1000));\"\n",
    "\n",
    "ans_key = json.dumps({str(k):['A','B','C','D'][k%4] for k in range(50)})\n",
    "\n",
    "insert_test = \"INSERT INTO test\\\n",
    "    VALUES (null,'Test',?);\""
   ]
  },
  {
   "cell_type": "code",
   "execution_count": 3,
   "metadata": {},
   "outputs": [],
   "source": [
    "cur.execute(init_test)\n",
    "cur.execute(insert_test,(ans_key,))\n",
    "cur.close()\n",
    "conn.commit()\n",
    "conn.close()"
   ]
  },
  {
   "cell_type": "code",
   "execution_count": 4,
   "metadata": {},
   "outputs": [
    {
     "output_type": "execute_result",
     "data": {
      "text/plain": "<sqlite3.Cursor at 0x103143260>"
     },
     "metadata": {},
     "execution_count": 4
    }
   ],
   "source": [
    "conn = sqlite3.connect('tests.db')\n",
    "cur = conn.cursor()\n",
    "read = \"SELECT * FROM test where subject=?;\"\n",
    "cur.execute(read,('HAHAH',))"
   ]
  },
  {
   "cell_type": "code",
   "execution_count": 4,
   "metadata": {},
   "outputs": [
    {
     "output_type": "stream",
     "name": "stdout",
     "text": "(1, 'Test', '{\"0\": \"A\", \"1\": \"B\", \"2\": \"C\", \"3\": \"D\", \"4\": \"A\", \"5\": \"B\", \"6\": \"C\", \"7\": \"D\", \"8\": \"A\", \"9\": \"B\", \"10\": \"C\", \"11\": \"D\", \"12\": \"A\", \"13\": \"B\", \"14\": \"C\", \"15\": \"D\", \"16\": \"A\", \"17\": \"B\", \"18\": \"C\", \"19\": \"D\", \"20\": \"A\", \"21\": \"B\", \"22\": \"C\", \"23\": \"D\", \"24\": \"A\", \"25\": \"B\", \"26\": \"C\", \"27\": \"D\", \"28\": \"A\", \"29\": \"B\", \"30\": \"C\", \"31\": \"D\", \"32\": \"A\", \"33\": \"B\", \"34\": \"C\", \"35\": \"D\", \"36\": \"A\", \"37\": \"B\", \"38\": \"C\", \"39\": \"D\", \"40\": \"A\", \"41\": \"B\", \"42\": \"C\", \"43\": \"D\", \"44\": \"A\", \"45\": \"B\", \"46\": \"C\", \"47\": \"D\", \"48\": \"A\", \"49\": \"B\"}')\n"
    }
   ],
   "source": [
    "conn = sqlite3.connect('tests.db')\n",
    "cur = conn.cursor()\n",
    "read = \"SELECT * FROM test;\"\n",
    "try:\n",
    "    cur.execute(read)\n",
    "except:\n",
    "    pass\n",
    "finally:\n",
    "    values = cur.fetchall()\n",
    "    for row in values:\n",
    "        print(row)\n",
    "    cur.close()\n",
    "    conn.close()"
   ]
  },
  {
   "cell_type": "code",
   "execution_count": 5,
   "metadata": {},
   "outputs": [],
   "source": [
    "init_sub = \"CREATE TABLE submission(\\\n",
    "    scantron_id INTEGER PRIMARY KEY,\\\n",
    "    scantron_url VARCHAR(100),\\\n",
    "    name VARCHAR(20),\\\n",
    "    score INTEGER,\\\n",
    "    result VARCHAR(1000));\"\n",
    "\n",
    "sub_key = json.dumps({str(k):['A','A','C','C'][k%4] for k in range(50)})\n",
    "insert_sub = \"INSERT INTO submission\\\n",
    "    VALUES (null,'http://1.pdf','foo',25,?);\""
   ]
  },
  {
   "cell_type": "code",
   "execution_count": 6,
   "metadata": {},
   "outputs": [],
   "source": [
    "conn = sqlite3.connect('tests.db')\n",
    "cur = conn.cursor()\n",
    "cur.execute(init_sub)\n",
    "cur.execute(insert_sub,(sub_key,))\n",
    "cur.close()\n",
    "conn.commit()\n",
    "conn.close()"
   ]
  },
  {
   "cell_type": "code",
   "execution_count": 7,
   "metadata": {},
   "outputs": [
    {
     "output_type": "stream",
     "name": "stdout",
     "text": "(1, 'http://1.pdf', 'foo', 25, '{\"0\": \"A\", \"1\": \"A\", \"2\": \"C\", \"3\": \"C\", \"4\": \"A\", \"5\": \"A\", \"6\": \"C\", \"7\": \"C\", \"8\": \"A\", \"9\": \"A\", \"10\": \"C\", \"11\": \"C\", \"12\": \"A\", \"13\": \"A\", \"14\": \"C\", \"15\": \"C\", \"16\": \"A\", \"17\": \"A\", \"18\": \"C\", \"19\": \"C\", \"20\": \"A\", \"21\": \"A\", \"22\": \"C\", \"23\": \"C\", \"24\": \"A\", \"25\": \"A\", \"26\": \"C\", \"27\": \"C\", \"28\": \"A\", \"29\": \"A\", \"30\": \"C\", \"31\": \"C\", \"32\": \"A\", \"33\": \"A\", \"34\": \"C\", \"35\": \"C\", \"36\": \"A\", \"37\": \"A\", \"38\": \"C\", \"39\": \"C\", \"40\": \"A\", \"41\": \"A\", \"42\": \"C\", \"43\": \"C\", \"44\": \"A\", \"45\": \"A\", \"46\": \"C\", \"47\": \"C\", \"48\": \"A\", \"49\": \"A\"}')\n"
    }
   ],
   "source": [
    "conn = sqlite3.connect('tests.db')\n",
    "cur = conn.cursor()\n",
    "read = \"SELECT * FROM submission;\"\n",
    "try:\n",
    "    cur.execute(read)\n",
    "except:\n",
    "    pass\n",
    "finally:\n",
    "    values = cur.fetchall()\n",
    "    for row in values:\n",
    "        print(row)\n",
    "    cur.close()\n",
    "    conn.close()"
   ]
  },
  {
   "cell_type": "code",
   "execution_count": null,
   "metadata": {},
   "outputs": [],
   "source": []
  }
 ]
}